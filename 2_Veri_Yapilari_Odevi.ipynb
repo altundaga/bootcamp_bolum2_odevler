{
 "cells": [
  {
   "cell_type": "markdown",
   "metadata": {},
   "source": [
    "Veri Yapıları Ödev 2"
   ]
  },
  {
   "cell_type": "code",
   "execution_count": 1,
   "metadata": {},
   "outputs": [
    {
     "name": "stdout",
     "output_type": "stream",
     "text": [
      "Bir haftada bulunan günler: {1: 'pazartesi', 2: 'salı', 3: 'çarşamba', 4: 'perşembe', 5: 'cuma', 6: 'cumartesi', 7: 'pazar'}\n",
      "Silmek istediğiniz günleri seçiniz.\n",
      "\n",
      "ilk kaçıncı günü silmek istersiniz?:2\n",
      "ikinci olarak kaçıncı günü silmek istersiniz?:5\n",
      "geriye kalan haftanın günleri: ['pazartesi', 'çarşamba', 'perşembe', 'cumartesi', 'pazar']\n"
     ]
    }
   ],
   "source": [
    "#soru1\n",
    "haftanin_gunleri={1:'pazartesi',2:'salı',3:'çarşamba',4:'perşembe',5:'cuma',6:'cumartesi',7:'pazar'}\n",
    "print(\"Bir haftada bulunan günler:\",haftanin_gunleri)\n",
    "print(\"Silmek istediğiniz günleri seçiniz.\\n\")\n",
    "birinci_gun=int(input('ilk kaçıncı günü silmek istersiniz?:'))\n",
    "ikinci_gun=int(input('ikinci olarak kaçıncı günü silmek istersiniz?:'))\n",
    "del haftanin_gunleri[birinci_gun]\n",
    "del haftanin_gunleri[ikinci_gun]\n",
    "print(\"geriye kalan haftanın günleri:\",list(haftanin_gunleri.values()))"
   ]
  },
  {
   "cell_type": "code",
   "execution_count": 2,
   "metadata": {},
   "outputs": [
    {
     "name": "stdout",
     "output_type": "stream",
     "text": [
      "[['ocak', 31], ['subat', 28], ['mart', 31], ['nisan', 30], ['mayis', 31], ['haziran', 30], ['temmuz', 31], ['agustos', 31], ['eylul', 30], ['ekim', 31], ['kasim', 30], ['aralik', 31]]\n"
     ]
    }
   ],
   "source": [
    "#soru2\n",
    "aylar1=[['ocak',31],['subat',28],['mart',31],['nisan',30],['mayis',31],['haziran',30],['temmuz',31],['agustos',31],['eylul',30],['ekim',31],['kasim',30],['aralik',31]]\n",
    "print(aylar1)"
   ]
  },
  {
   "cell_type": "code",
   "execution_count": 3,
   "metadata": {},
   "outputs": [
    {
     "name": "stdout",
     "output_type": "stream",
     "text": [
      "[['ocak', 'subat', 'mart', 'nisan', 'mayis', 'haziran', 'temmuz', 'agustos', 'eylul', 'ekim', 'kasim', 'aralik'], [31, 28, 31, 30, 31, 30, 31, 31, 30, 31, 30, 31]]\n"
     ]
    }
   ],
   "source": [
    "#soru3\n",
    "aylar2=[[aylar1[0][0],aylar1[1][0],aylar1[2][0],aylar1[3][0],aylar1[4][0],aylar1[5][0],aylar1[6][0],aylar1[7][0],aylar1[8][0],aylar1[9][0],aylar1[10][0],aylar1[11][0]],[aylar1[0][1],aylar1[1][1],aylar1[2][1],aylar1[3][1],aylar1[4][1],aylar1[5][1],aylar1[6][1],aylar1[7][1],aylar1[8][1],aylar1[9][1],aylar1[10][1],aylar1[11][1]]]\n",
    "print(aylar2)"
   ]
  },
  {
   "cell_type": "code",
   "execution_count": 4,
   "metadata": {},
   "outputs": [],
   "source": [
    "#soru4\n",
    "kis=[['aralik',31],['ocak',31],['subat',28]]\n",
    "ilkbahar=[['mart',31],['nisan',30],['mayis',31]]\n",
    "yaz=[['haziran',30],['temmuz',31],['agustos',31]]\n",
    "sonbahar=[['eylul',30],['ekim',31],['kasim',30]]"
   ]
  },
  {
   "cell_type": "code",
   "execution_count": 5,
   "metadata": {},
   "outputs": [
    {
     "name": "stdout",
     "output_type": "stream",
     "text": [
      "yaz mevsimi toplam 92 gün sürmektedir.\n"
     ]
    }
   ],
   "source": [
    "#soru5\n",
    "toplam_gun=yaz[0][1]+yaz[1][1]+yaz[2][1]\n",
    "print(\"yaz mevsimi toplam {} gün sürmektedir.\".format(toplam_gun))"
   ]
  },
  {
   "cell_type": "code",
   "execution_count": null,
   "metadata": {},
   "outputs": [],
   "source": []
  }
 ],
 "metadata": {
  "kernelspec": {
   "display_name": "Python 3",
   "language": "python",
   "name": "python3"
  },
  "language_info": {
   "codemirror_mode": {
    "name": "ipython",
    "version": 3
   },
   "file_extension": ".py",
   "mimetype": "text/x-python",
   "name": "python",
   "nbconvert_exporter": "python",
   "pygments_lexer": "ipython3",
   "version": "3.7.2"
  }
 },
 "nbformat": 4,
 "nbformat_minor": 2
}
