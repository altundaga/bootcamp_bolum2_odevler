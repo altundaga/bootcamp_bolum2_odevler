{
 "cells": [
  {
   "cell_type": "markdown",
   "metadata": {},
   "source": [
    "Python Temeller Ödev1 "
   ]
  },
  {
   "cell_type": "code",
   "execution_count": 2,
   "metadata": {},
   "outputs": [
    {
     "name": "stdout",
     "output_type": "stream",
     "text": [
      "bir haftanın sonunda kar miktarınız: 1210.6814074060812\n",
      "bir haftanın sonunda elinize gecen miktar: 2210.6814074060812\n"
     ]
    }
   ],
   "source": [
    "#Soru1\n",
    "\n",
    "anapara=1000\n",
    "oran=0.12\n",
    "gun=7\n",
    "\n",
    "faiz=anapara*(1+oran)**gun-anapara\n",
    "toplam_para=anapara+faiz\n",
    "print(\"bir haftanın sonunda kar miktarınız:\",faiz)\n",
    "print(\"bir haftanın sonunda elinize gecen miktar:\",toplam_para)\n"
   ]
  },
  {
   "cell_type": "code",
   "execution_count": 3,
   "metadata": {},
   "outputs": [
    {
     "name": "stdout",
     "output_type": "stream",
     "text": [
      "Hafta başında 1000 dolarlık bitcoin aldığımızda günde ortalama %12 kazançla,\n",
      "bir hafta sonunda 1210.68 dolar kazanırdık\n",
      "Hafta başında 1000 dolarlık bitcoin aldığımızda günde ortalama %12 kazançla,\n",
      "bir hafta sonunda 1210.68 dolar kazanırdık\n"
     ]
    }
   ],
   "source": [
    "#Soru2\n",
    "#alternatif1\n",
    "dolar=1000\n",
    "oran='%12'\n",
    "kazanc=1210.68\n",
    "print(\"Hafta başında\",dolar,\"dolarlık bitcoin aldığımızda günde ortalama\",oran,\"kazançla,\\nbir hafta sonunda\",kazanc,\"dolar kazanırdık\")\n",
    "\n",
    "#alternatif2\n",
    "print(\"Hafta başında {} dolarlık bitcoin aldığımızda günde ortalama {} kazançla,\\nbir hafta sonunda {} dolar kazanırdık\".format(dolar,oran,kazanc))"
   ]
  },
  {
   "cell_type": "code",
   "execution_count": 4,
   "metadata": {},
   "outputs": [
    {
     "name": "stdout",
     "output_type": "stream",
     "text": [
      "dosya ismi giriniz: deneme\n",
      "dosyanizin yeni ismi: deneme.py\n"
     ]
    }
   ],
   "source": [
    "#Soru3\n",
    "dosya_adi=input('dosya ismi giriniz: ')\n",
    "dosya_adi=dosya_adi+\".py\"\n",
    "print(\"dosyanizin yeni ismi:\",dosya_adi)"
   ]
  }
 ],
 "metadata": {
  "kernelspec": {
   "display_name": "Python 3",
   "language": "python",
   "name": "python3"
  },
  "language_info": {
   "codemirror_mode": {
    "name": "ipython",
    "version": 3
   },
   "file_extension": ".py",
   "mimetype": "text/x-python",
   "name": "python",
   "nbconvert_exporter": "python",
   "pygments_lexer": "ipython3",
   "version": "3.7.2"
  }
 },
 "nbformat": 4,
 "nbformat_minor": 2
}
