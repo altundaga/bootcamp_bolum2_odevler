{
 "cells": [
  {
   "cell_type": "markdown",
   "metadata": {},
   "source": [
    "Dosya İşlemleri,Fonksiyonlar,Hatalar ve Modüller Ödev4"
   ]
  },
  {
   "cell_type": "code",
   "execution_count": 3,
   "metadata": {},
   "outputs": [
    {
     "name": "stdout",
     "output_type": "stream",
     "text": [
      "Şiir 58 dizeden oluşmaktadır.\n"
     ]
    }
   ],
   "source": [
    "#soru1\n",
    "dizeler=[]\n",
    "def ilk_kelime_bul(s):\n",
    "        ilk_kelime=s.split(\" \")\n",
    "        return ilk_kelime[0]\n",
    "\n",
    "\n",
    "with open('belki_yine_gelirim.txt','r',encoding='unicode escape') as f:\n",
    "        dize_sayisi=len(f.readlines())\n",
    "        f.seek(0)\n",
    "        dizeler=f.readlines()\n",
    "                      \n",
    "print(\"Şiir {} dizeden oluşmaktadır.\".format(dize_sayisi)) \n",
    "\n",
    "with open('ilk_kelimeler.txt','w',encoding='unicode escape') as y:\n",
    "    for i in dizeler:\n",
    "        y.write(ilk_kelime_bul(i))\n"
   ]
  },
  {
   "cell_type": "code",
   "execution_count": 1,
   "metadata": {},
   "outputs": [
    {
     "name": "stdout",
     "output_type": "stream",
     "text": [
      "bir sayi giriniz:1\n",
      "En küçük asal sayi 2'dir.2'den büyük bir sayi giriniz!\n",
      "\n",
      "bir sayi giriniz:24\n",
      "girdiğiniz sayi asal sayi değildir!\n"
     ]
    }
   ],
   "source": [
    "#soru2\n",
    "def asal_mi():\n",
    "    \n",
    "    sayi=int(input(\"bir sayi giriniz:\"))\n",
    "    \n",
    "    while(sayi<2):\n",
    "        \n",
    "        print(\"En küçük asal sayi 2'dir.2'den büyük bir sayi giriniz!\\n\")\n",
    "        sayi=int(input(\"bir sayi giriniz:\"))\n",
    "\n",
    "    if sayi==2:\n",
    "        print(\"girdiğiniz sayi bir asal sayidir!\") \n",
    "    else:            \n",
    "        for i in range(2,sayi):\n",
    "            \n",
    "                \n",
    "            if sayi%i==0:\n",
    "                print(\"girdiğiniz sayi asal sayi değildir!\")\n",
    "                break\n",
    "                \n",
    "            else :\n",
    "                print(\"girdiğiniz sayi bir asal sayidir!\")\n",
    "                break\n",
    "    \n",
    "           \n",
    "    return \n",
    "\n",
    "asal_mi()"
   ]
  },
  {
   "cell_type": "code",
   "execution_count": 2,
   "metadata": {},
   "outputs": [
    {
     "name": "stdout",
     "output_type": "stream",
     "text": [
      "[1, 9, 0, 7, 6, 11, 45, 46, 47, 48, 23]\n"
     ]
    }
   ],
   "source": [
    "#soru3\n",
    "ilk_liste=[1,1,1,1,9,9,9,0,0,0,0,7,6,11,45,45,46,47,48,23]\n",
    "def var_mi(x,a):\n",
    "    for i in a:\n",
    "        if x==i:\n",
    "            return True\n",
    "            break\n",
    "      \n",
    "    return False\n",
    "\n",
    "def tekrarsiz(a):\n",
    "    yeni_liste=[]\n",
    "    for i in a:\n",
    "            if var_mi(i,yeni_liste)==False:\n",
    "                \n",
    "                yeni_liste.append(i)\n",
    "    \n",
    "    return yeni_liste\n",
    "        \n",
    "print(tekrarsiz(ilk_liste) )"
   ]
  },
  {
   "cell_type": "code",
   "execution_count": 1,
   "metadata": {},
   "outputs": [
    {
     "name": "stdout",
     "output_type": "stream",
     "text": [
      "lütfen doğduğunuz yılı giriniz:1986\n",
      "33 yaşındasınız\n"
     ]
    }
   ],
   "source": [
    "#soru4\n",
    "import time\n",
    "  \n",
    "def yas_bulma(dogum_yili):\n",
    "        yil=int(time.strftime(\"%Y\"))\n",
    "        yas=yil-dogum_yili\n",
    "        \n",
    "        return yas\n",
    "         \n",
    "        \n",
    "dogum_yili=int(input(\"lütfen doğduğunuz yılı giriniz:\"))        \n",
    "print(yas_bulma(dogum_yili),\"yaşındasınız\")\n"
   ]
  }
 ],
 "metadata": {
  "kernelspec": {
   "display_name": "Python 3",
   "language": "python",
   "name": "python3"
  },
  "language_info": {
   "codemirror_mode": {
    "name": "ipython",
    "version": 3
   },
   "file_extension": ".py",
   "mimetype": "text/x-python",
   "name": "python",
   "nbconvert_exporter": "python",
   "pygments_lexer": "ipython3",
   "version": "3.7.2"
  }
 },
 "nbformat": 4,
 "nbformat_minor": 2
}
