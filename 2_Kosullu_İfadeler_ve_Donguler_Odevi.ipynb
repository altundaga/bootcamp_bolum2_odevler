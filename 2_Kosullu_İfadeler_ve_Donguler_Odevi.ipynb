{
 "cells": [
  {
   "cell_type": "markdown",
   "metadata": {},
   "source": [
    "Koşullu İfadeler ve Döngüler Ödev3"
   ]
  },
  {
   "cell_type": "code",
   "execution_count": 1,
   "metadata": {},
   "outputs": [
    {
     "name": "stdout",
     "output_type": "stream",
     "text": [
      "lütfen sıcaklık derecenizi giriniz:-20\n",
      "lütfen sıcaklık biriminizi giriniz:C\n",
      "Sıcaklık değerinizin fahreneit karşılığı= -4.0 F derecedir\n"
     ]
    }
   ],
   "source": [
    "#soru1\n",
    "derece=int(input(\"lütfen sıcaklık derecenizi giriniz:\"))\n",
    "birim=input(\"lütfen sıcaklık biriminizi giriniz:\")\n",
    "if birim in ['F','f']:\n",
    "        print(\"Sıcaklık değerinizin santigrat karşılığı=\",(5/9)*(derece-32),\"C derecedir\")\n",
    "elif birim in ['C','c']:\n",
    "        print(\"Sıcaklık değerinizin fahreneit karşılığı=\",derece*1.8+32,\"F derecedir\")"
   ]
  },
  {
   "cell_type": "code",
   "execution_count": 2,
   "metadata": {},
   "outputs": [
    {
     "name": "stdout",
     "output_type": "stream",
     "text": [
      "lütfen bir kelime giriniz:otobüs\n",
      "s ü b o t o "
     ]
    }
   ],
   "source": [
    "#soru2\n",
    "kelime=list(input(\"lütfen bir kelime giriniz:\"))\n",
    "sayi=len(kelime)\n",
    "for x in range(sayi-1,-1,-1):\n",
    "    print(kelime[x],end=\" \")"
   ]
  },
  {
   "cell_type": "code",
   "execution_count": 3,
   "metadata": {},
   "outputs": [
    {
     "name": "stdout",
     "output_type": "stream",
     "text": [
      "[1, 1, 2, 3, 5, 8, 13, 21, 34, 55, 89, 144, 233, 377, 610, 987, 1597, 2584, 4181, 6765, 10946, 17711, 28657, 46368, 75025, 121393, 196418, 317811, 514229, 832040, 1346269, 2178309, 3524578, 5702887, 9227465, 14930352, 24157817, 39088169, 63245986, 102334155, 165580141, 267914296, 433494437, 701408733, 1134903170, 1836311903, 2971215073, 4807526976, 7778742049, 12586269025, 20365011074]\n"
     ]
    }
   ],
   "source": [
    "#soru3\n",
    "fibo=[]\n",
    "for x in range(0,51):\n",
    "    if x==0:\n",
    "        fibo.append(1)\n",
    "    elif x==1:\n",
    "        fibo.append(x)\n",
    "    else:\n",
    "        fibo.insert(x,fibo[x-1]+fibo[x-2])\n",
    "print(fibo)\n",
    "      "
   ]
  },
  {
   "cell_type": "code",
   "execution_count": 4,
   "metadata": {},
   "outputs": [
    {
     "name": "stdout",
     "output_type": "stream",
     "text": [
      "lütfen bir sayı giriniz:6\n",
      "6 x 1 = 6\n",
      "6 x 2 = 12\n",
      "6 x 3 = 18\n",
      "6 x 4 = 24\n",
      "6 x 5 = 30\n",
      "6 x 6 = 36\n",
      "6 x 7 = 42\n",
      "6 x 8 = 48\n",
      "6 x 9 = 54\n",
      "6 x 10 = 60\n"
     ]
    }
   ],
   "source": [
    "#soru4\n",
    "sayi=input(\"lütfen bir sayı giriniz:\")\n",
    "\n",
    "for x in range(1,11):\n",
    "    print(sayi,'x',x,'=',int(sayi)*x)\n",
    "    "
   ]
  },
  {
   "cell_type": "code",
   "execution_count": 5,
   "metadata": {},
   "outputs": [
    {
     "name": "stdout",
     "output_type": "stream",
     "text": [
      "[1, 8, 9, 64, 25, 216, 49, 512, 81, 1000, 121, 1728, 169, 2744, 225, 4096, 289, 5832, 361, 8000]\n"
     ]
    }
   ],
   "source": [
    "#soru5\n",
    "sayilar=[x**2 if x%2!=0 else x**3 for x in range(1,21)]\n",
    "print(sayilar)"
   ]
  }
 ],
 "metadata": {
  "kernelspec": {
   "display_name": "Python 3",
   "language": "python",
   "name": "python3"
  },
  "language_info": {
   "codemirror_mode": {
    "name": "ipython",
    "version": 3
   },
   "file_extension": ".py",
   "mimetype": "text/x-python",
   "name": "python",
   "nbconvert_exporter": "python",
   "pygments_lexer": "ipython3",
   "version": "3.7.2"
  }
 },
 "nbformat": 4,
 "nbformat_minor": 2
}
