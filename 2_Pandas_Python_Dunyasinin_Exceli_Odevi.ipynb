{
 "cells": [
  {
   "cell_type": "markdown",
   "metadata": {},
   "source": [
    "Pandas:Python Dünyasının Exceli Ödev6"
   ]
  },
  {
   "cell_type": "code",
   "execution_count": 1,
   "metadata": {},
   "outputs": [
    {
     "data": {
      "text/html": [
       "<div>\n",
       "<style scoped>\n",
       "    .dataframe tbody tr th:only-of-type {\n",
       "        vertical-align: middle;\n",
       "    }\n",
       "\n",
       "    .dataframe tbody tr th {\n",
       "        vertical-align: top;\n",
       "    }\n",
       "\n",
       "    .dataframe thead th {\n",
       "        text-align: right;\n",
       "    }\n",
       "</style>\n",
       "<table border=\"1\" class=\"dataframe\">\n",
       "  <thead>\n",
       "    <tr style=\"text-align: right;\">\n",
       "      <th></th>\n",
       "      <th>asallar</th>\n",
       "      <th>fibonacciler</th>\n",
       "    </tr>\n",
       "  </thead>\n",
       "  <tbody>\n",
       "    <tr>\n",
       "      <th>a</th>\n",
       "      <td>2</td>\n",
       "      <td>1</td>\n",
       "    </tr>\n",
       "    <tr>\n",
       "      <th>b</th>\n",
       "      <td>3</td>\n",
       "      <td>1</td>\n",
       "    </tr>\n",
       "    <tr>\n",
       "      <th>c</th>\n",
       "      <td>5</td>\n",
       "      <td>2</td>\n",
       "    </tr>\n",
       "    <tr>\n",
       "      <th>d</th>\n",
       "      <td>7</td>\n",
       "      <td>3</td>\n",
       "    </tr>\n",
       "    <tr>\n",
       "      <th>e</th>\n",
       "      <td>11</td>\n",
       "      <td>5</td>\n",
       "    </tr>\n",
       "    <tr>\n",
       "      <th>f</th>\n",
       "      <td>13</td>\n",
       "      <td>8</td>\n",
       "    </tr>\n",
       "    <tr>\n",
       "      <th>g</th>\n",
       "      <td>17</td>\n",
       "      <td>13</td>\n",
       "    </tr>\n",
       "    <tr>\n",
       "      <th>h</th>\n",
       "      <td>19</td>\n",
       "      <td>21</td>\n",
       "    </tr>\n",
       "    <tr>\n",
       "      <th>i</th>\n",
       "      <td>23</td>\n",
       "      <td>34</td>\n",
       "    </tr>\n",
       "    <tr>\n",
       "      <th>j</th>\n",
       "      <td>29</td>\n",
       "      <td>55</td>\n",
       "    </tr>\n",
       "  </tbody>\n",
       "</table>\n",
       "</div>"
      ],
      "text/plain": [
       "   asallar  fibonacciler\n",
       "a        2             1\n",
       "b        3             1\n",
       "c        5             2\n",
       "d        7             3\n",
       "e       11             5\n",
       "f       13             8\n",
       "g       17            13\n",
       "h       19            21\n",
       "i       23            34\n",
       "j       29            55"
      ]
     },
     "execution_count": 1,
     "metadata": {},
     "output_type": "execute_result"
    }
   ],
   "source": [
    "#soru1\n",
    "import numpy as np\n",
    "import pandas as pd\n",
    "#İlk 10 fibonacci sayısını üretir\n",
    "fibo=[]\n",
    "for x in range(0,10):\n",
    "    if x==0:\n",
    "        fibo.append(1)\n",
    "    elif x==1:\n",
    "        fibo.append(x)\n",
    "    else:\n",
    "        fibo.insert(x,fibo[x-1]+fibo[x-2])\n",
    "#belirlenen aralıktaki asal sayıları veriyor biz ilk 10unu alıyoruz       \n",
    "asal=[]                \n",
    "sayac=0\n",
    "for i in range (1, 50):\n",
    "    for j in range(1, i+1):\n",
    "        if i%j == 0 :\n",
    "            sayac+= 1\n",
    "    if sayac==2:\n",
    "        asal.append(i)\n",
    "    sayac=0\n",
    "    \n",
    "alfa=np.array(['a','b','c','d','e','f','g','h','i','j'])\n",
    "#veri cercevesini olusturuyoruz\n",
    "df = pd.DataFrame({\n",
    "                   'asallar': asal[0:10] ,\n",
    "                   'fibonacciler' : fibo\n",
    "                  })\n",
    "df.index=alfa\n",
    "df"
   ]
  },
  {
   "cell_type": "code",
   "execution_count": 2,
   "metadata": {},
   "outputs": [
    {
     "data": {
      "text/plain": [
       "Sex\n",
       "female    27.915709\n",
       "male      30.726645\n",
       "Name: Age, dtype: float64"
      ]
     },
     "execution_count": 2,
     "metadata": {},
     "output_type": "execute_result"
    }
   ],
   "source": [
    "#soru2\n",
    "import numpy as np\n",
    "import pandas as pd\n",
    "\n",
    "df=pd.read_csv('train.csv')\n",
    "df\n",
    "#verideki insanların cinsiyetlere göre yas ortalaması\n",
    "df.groupby(by='Sex').mean()['Age']"
   ]
  },
  {
   "cell_type": "code",
   "execution_count": 4,
   "metadata": {},
   "outputs": [
    {
     "name": "stdout",
     "output_type": "stream",
     "text": [
      "0.40625 \n",
      "\n",
      "\n",
      "\n",
      "Sex\n",
      "female    0.714286\n",
      "male      0.215190\n",
      "Name: Survived, dtype: float64\n"
     ]
    }
   ],
   "source": [
    "#soru3\n",
    "import numpy as np\n",
    "import pandas as pd\n",
    "\n",
    "df=pd.read_csv('train.csv')\n",
    "df\n",
    "#30 yas altı insanların yasama oranı\n",
    "yasama_orani=df[df['Age']<30].sum()['Survived']/df[df['Age']<30].count()['Survived']\n",
    "print(yasama_orani,\"\\n\\n\\n\")\n",
    "#30 yas altı insanların cinsiyetlere göre yasama oranı\n",
    "cinsiyet_yasam_orani=df[df['Age']<30].groupby(by='Sex').mean()['Survived']\n",
    "print(cinsiyet_yasam_orani)"
   ]
  },
  {
   "cell_type": "code",
   "execution_count": null,
   "metadata": {},
   "outputs": [],
   "source": []
  }
 ],
 "metadata": {
  "kernelspec": {
   "display_name": "Python 3",
   "language": "python",
   "name": "python3"
  },
  "language_info": {
   "codemirror_mode": {
    "name": "ipython",
    "version": 3
   },
   "file_extension": ".py",
   "mimetype": "text/x-python",
   "name": "python",
   "nbconvert_exporter": "python",
   "pygments_lexer": "ipython3",
   "version": "3.7.2"
  }
 },
 "nbformat": 4,
 "nbformat_minor": 2
}
